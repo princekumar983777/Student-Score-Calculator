{
 "cells": [
  {
   "cell_type": "code",
   "execution_count": 7,
   "id": "cf6b2974",
   "metadata": {},
   "outputs": [],
   "source": [
    "import pandas as pd"
   ]
  },
  {
   "cell_type": "code",
   "execution_count": 13,
   "id": "a96bc8ba",
   "metadata": {},
   "outputs": [
    {
     "data": {
      "text/plain": [
       "{'age': 24,\n",
       " 'gender': 'Male',\n",
       " 'study_hours_per_day': 5.4,\n",
       " 'social_media_hours': 0.2,\n",
       " 'netflix_hours': 0.0,\n",
       " 'part_time_job': 'No',\n",
       " 'attendance_percentage': 76.8,\n",
       " 'sleep_hours': 6.7,\n",
       " 'diet_quality': 'Fair',\n",
       " 'exercise_frequency': 4,\n",
       " 'parental_education_level': 'Bachelor',\n",
       " 'internet_quality': 'Average',\n",
       " 'mental_health_rating': 8,\n",
       " 'extracurricular_participation': 'No'}"
      ]
     },
     "execution_count": 13,
     "metadata": {},
     "output_type": "execute_result"
    }
   ],
   "source": [
    "default_best = pd.read_csv('default/default_best.csv')\n",
    "random_best = default_best.sample(n=1)\n",
    "random_best_data = random_best.to_dict(orient='records')[0] \n",
    "random_best_data"
   ]
  },
  {
   "cell_type": "code",
   "execution_count": null,
   "id": "1f6852ba",
   "metadata": {},
   "outputs": [],
   "source": []
  }
 ],
 "metadata": {
  "kernelspec": {
   "display_name": "Python 3",
   "language": "python",
   "name": "python3"
  },
  "language_info": {
   "codemirror_mode": {
    "name": "ipython",
    "version": 3
   },
   "file_extension": ".py",
   "mimetype": "text/x-python",
   "name": "python",
   "nbconvert_exporter": "python",
   "pygments_lexer": "ipython3",
   "version": "3.11.9"
  }
 },
 "nbformat": 4,
 "nbformat_minor": 5
}
